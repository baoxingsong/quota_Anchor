{
 "cells": [
  {
   "cell_type": "markdown",
   "id": "6821b854",
   "metadata": {},
   "source": [
    "# DEGs Classification"
   ]
  },
  {
   "cell_type": "code",
   "execution_count": 1,
   "id": "50db4d0d",
   "metadata": {},
   "outputs": [],
   "source": [
    "import tensorflow as tf\n",
    "from tensorflow.keras.models import Sequential\n",
    "from tensorflow.keras.layers import Dense,Dropout,Activation,Flatten,Conv1D,MaxPooling1D\n",
    "from tensorflow.keras.callbacks import EarlyStopping\n",
    "from tensorflow.keras.utils import to_categorical\n",
    "from sklearn.metrics import r2_score\n",
    "from tensorflow.keras import backend as K\n",
    "import matplotlib.pyplot as plt\n",
    "import pandas as pd\n",
    "import numpy as np\n",
    "import random\n",
    "import os\n",
    "import pickle"
   ]
  },
  {
   "cell_type": "code",
   "execution_count": 2,
   "id": "e52901e3",
   "metadata": {},
   "outputs": [
    {
     "name": "stdout",
     "output_type": "stream",
     "text": [
      "Thu Aug 17 16:56:03 2023       \n",
      "+-----------------------------------------------------------------------------+\n",
      "| NVIDIA-SMI 465.19.01    Driver Version: 465.19.01    CUDA Version: 11.3     |\n",
      "|-------------------------------+----------------------+----------------------+\n",
      "| GPU  Name        Persistence-M| Bus-Id        Disp.A | Volatile Uncorr. ECC |\n",
      "| Fan  Temp  Perf  Pwr:Usage/Cap|         Memory-Usage | GPU-Util  Compute M. |\n",
      "|                               |                      |               MIG M. |\n",
      "|===============================+======================+======================|\n",
      "|   0  NVIDIA T600         On   | 00000000:17:00.0 Off |                  N/A |\n",
      "| 38%   41C    P8    N/A /  41W |     20MiB /  3911MiB |      0%      Default |\n",
      "|                               |                      |                  N/A |\n",
      "+-------------------------------+----------------------+----------------------+\n",
      "|   1  NVIDIA Graphics...  On   | 00000000:31:00.0 Off |                    0 |\n",
      "| N/A   49C    P0    75W / 300W |   4927MiB / 81251MiB |      0%      Default |\n",
      "|                               |                      |             Disabled |\n",
      "+-------------------------------+----------------------+----------------------+\n",
      "|   2  NVIDIA Graphics...  On   | 00000000:E3:00.0 Off |                    0 |\n",
      "| N/A   46C    P0    70W / 300W |  30960MiB / 81251MiB |      0%      Default |\n",
      "|                               |                      |             Disabled |\n",
      "+-------------------------------+----------------------+----------------------+\n",
      "                                                                               \n",
      "+-----------------------------------------------------------------------------+\n",
      "| Processes:                                                                  |\n",
      "|  GPU   GI   CI        PID   Type   Process name                  GPU Memory |\n",
      "|        ID   ID                                                   Usage      |\n",
      "|=============================================================================|\n",
      "|    0   N/A  N/A      2852      G   /usr/bin/X                          9MiB |\n",
      "|    0   N/A  N/A      3864      G   /usr/bin/gnome-shell                5MiB |\n",
      "|    1   N/A  N/A     23370      C   ...e/wu/anaconda3/bin/python      953MiB |\n",
      "|    1   N/A  N/A     25508      C   ...e/wu/anaconda3/bin/python     3971MiB |\n",
      "|    2   N/A  N/A     25508      C   ...e/wu/anaconda3/bin/python    30957MiB |\n",
      "+-----------------------------------------------------------------------------+\n"
     ]
    }
   ],
   "source": [
    "!nvidia-smi"
   ]
  },
  {
   "cell_type": "code",
   "execution_count": 3,
   "id": "6aa92fcc",
   "metadata": {},
   "outputs": [],
   "source": [
    "os.environ[\"CUDA_VISIBLE_DEVICES\"] = \"1\""
   ]
  },
  {
   "cell_type": "markdown",
   "id": "2c6767d0",
   "metadata": {},
   "source": [
    "### 导入数据并处理为可输入CNN的列表"
   ]
  },
  {
   "cell_type": "code",
   "execution_count": 4,
   "id": "1f30de65",
   "metadata": {},
   "outputs": [
    {
     "name": "stdout",
     "output_type": "stream",
     "text": [
      "/home/song/project/user/fanshaoqi/hackathon\n"
     ]
    }
   ],
   "source": [
    "import os\n",
    "HOME = os.getcwd()\n",
    "print(HOME)\n",
    "file = 'maize_sorghum_DEGs_cds_2500_DL.csv'"
   ]
  },
  {
   "cell_type": "code",
   "execution_count": 5,
   "id": "67143830",
   "metadata": {},
   "outputs": [],
   "source": [
    "# # 获取最长序列的长度\n",
    "# def get_max_sequence_length(sequences):\n",
    "#     return max(len(seq) for seq in sequences)\n",
    "\n",
    "# # 填充序列到指定长度\n",
    "# def pad_sequences_to_length(sequences):\n",
    "#     padded_sequences = []\n",
    "#     LEN_SEQ = get_max_sequence_length(sequences)\n",
    "#     for seq in sequences:\n",
    "#         if len(seq) < LEN_SEQ:\n",
    "#             padding_length = LEN_SEQ - len(seq)\n",
    "#             padded_seq = seq + 'N' * padding_length\n",
    "#             padded_sequences.append(padded_seq)\n",
    "#         else:\n",
    "#             padded_sequences.append(seq)\n",
    "#     return padded_sequences, LEN_SEQ"
   ]
  },
  {
   "cell_type": "code",
   "execution_count": 6,
   "id": "8ccae9e6",
   "metadata": {},
   "outputs": [],
   "source": [
    "# 将DNA序列表示为数字\n",
    "NTS=dict([(\"A\",[1,0,0,0]),(\"C\",[0,1,0,0]),(\"G\",[0,0,1,0]),(\"T\",[0,0,0,1]),(\"N\",[0,0,0,0])]) \n",
    "\n",
    "def seq2nums(seq):\n",
    "   return [NTS[x] for x in seq]\n",
    "\n",
    "def set_barcode(species, treatment):  #总长为8的barcode\n",
    "    str_1, str_2, barcode = '','',''  #定义空字符串，maize--ANNN, sorghum-TNNN\n",
    "    \n",
    "    if species=='maize':\n",
    "        str_1 = 'ANNN'\n",
    "    elif species =='sorghum':\n",
    "        str_1 = 'TNNN'\n",
    "    \n",
    "    if treatment=='05h':\n",
    "        str_2 = 'AANN'\n",
    "    elif treatment=='1h':\n",
    "        str_2 = 'ATNN'\n",
    "    elif treatment=='3h':\n",
    "        str_2 = 'ACNN'    \n",
    "    elif treatment=='6h':\n",
    "        str_2 = 'AGNN'    \n",
    "    elif treatment=='16h':\n",
    "        str_2 = 'TANN'    \n",
    "    elif treatment=='24h':\n",
    "        str_2 = 'TTNN'\n",
    "    \n",
    "    barcode = str(str_1) + str(str_2)\n",
    "    \n",
    "    return barcode\n",
    "    \n",
    "def create_training_data():\n",
    "    training_data = [] \n",
    "    path = os.path.join(HOME,file)  #path to the gene_expr data\n",
    "    df = pd.read_csv(path,sep=',',header=0,index_col=None)\n",
    "    df.dropna(inplace=True)     #扔掉na值\n",
    "    print(file,'length:',len(df))\n",
    "    \n",
    "    seqs = []\n",
    "    for index, row in df.iterrows():\n",
    "        seq, species, treatment = row['seq'],row['species'],row['treatment']\n",
    "        barcode = set_barcode(species, treatment)\n",
    "        sequence = str(barcode) + str(seq)\n",
    "        try:\n",
    "            seq_nums = seq2nums(sequence)\n",
    "            seqs.append(seq_nums)\n",
    "        except:\n",
    "            continue\n",
    "        \n",
    "    labels = [x for x in df.label] #单标签 \n",
    "    \n",
    "    seqs=np.array(seqs)\n",
    "    labels=np.array(labels)\n",
    "    \n",
    "    labels = to_categorical(labels, num_classes=3)\n",
    "    \n",
    "    return seqs,labels\n",
    "\n",
    "\n",
    "def get_random_seed():\n",
    "    state = random.getstate()\n",
    "    return state[1][0]\n",
    "\n",
    "# train/test splitting\n",
    "def split_trainNtest(random_seed=None):\n",
    "    seqs,exprs = create_training_data()\n",
    "    \n",
    "    if random_seed is not None:\n",
    "        random.seed(random_seed)\n",
    "    \n",
    "    datalen=len(seqs)\n",
    "\n",
    "    train_indices=random.sample(range(datalen),int(datalen*0.8))\n",
    "    test_indices=list(set(range(datalen))-set(train_indices))\n",
    "\n",
    "    seqs_train=seqs[train_indices]\n",
    "    seqs_test=seqs[test_indices]\n",
    "    exprs_train=exprs[train_indices]\n",
    "    exprs_test=exprs[test_indices]\n",
    "    \n",
    "    random_seed = get_random_seed()\n",
    "    print(random_seed)\n",
    "    \n",
    "    return seqs_train,seqs_test,exprs_train,exprs_test,random_seed"
   ]
  },
  {
   "cell_type": "markdown",
   "id": "23fc9c3a",
   "metadata": {},
   "source": [
    "# CNN"
   ]
  },
  {
   "cell_type": "code",
   "execution_count": 7,
   "id": "3892e773",
   "metadata": {},
   "outputs": [],
   "source": [
    "# 搭建模型结构\n",
    "def build(nchannels,width,LEN_SEQ):\n",
    "   model = Sequential()\n",
    "\n",
    "   model.add(Conv1D(128,kernel_size=width,padding='same',activation='relu',input_shape=(LEN_SEQ,nchannels)))\n",
    "   model.add(Conv1D(128,kernel_size=width,padding='same',activation='relu'))\n",
    "   model.add(MaxPooling1D(pool_size=width,padding='same'))\n",
    "   model.add(Dropout(0.1))\n",
    "\n",
    "   model.add(Conv1D(128,kernel_size=6,padding='same',activation='relu'))\n",
    "   model.add(Conv1D(128,kernel_size=6,padding='same',activation='relu'))\n",
    "   model.add(MaxPooling1D(pool_size=6,padding='same'))\n",
    "   model.add(Dropout(0.1))\n",
    "\n",
    "   model.add(Conv1D(64,kernel_size=6,padding='same',activation='relu'))\n",
    "   model.add(Conv1D(64,kernel_size=6,padding='same',activation='relu'))\n",
    "   model.add(MaxPooling1D(pool_size=6,padding='same'))\n",
    "   model.add(Dropout(0.1))\n",
    "\n",
    "#    model.add(Conv1D(64,kernel_size=3,padding='same',activation='relu'))\n",
    "#    model.add(Conv1D(64,kernel_size=3,padding='same',activation='relu'))\n",
    "#    model.add(MaxPooling1D(pool_size=3,padding='same'))\n",
    "#    model.add(Dropout(0.1))\n",
    "\n",
    "   model.add(Flatten())\n",
    "   model.add(Dense(64,activation='relu'))\n",
    "   model.add(Dropout(0.1))\n",
    "   model.add(Dense(32,activation='relu'))\n",
    "   model.add(Dropout(0.1))\n",
    "   model.add(Dense(32,activation='relu'))\n",
    "#    model.add(Dense(6,activation='sigmoid'))\n",
    "   model.add(Dense(3,activation='softmax'))\n",
    "#    model.add(Dense(1))\n",
    "\n",
    "\n",
    "   return model\n",
    "\n",
    "def coeff_determination(y_true, y_pred):\n",
    "    SS_res =  K.sum(K.square( y_true-y_pred ))\n",
    "    SS_tot = K.sum(K.square( y_true - K.mean(y_true) ) )\n",
    "    return ( 1 - SS_res/(SS_tot + K.epsilon()) )\n",
    "\n",
    "def train_model(nchannels,width,LEN_SEQ,random_seed=None):\n",
    "    seqs_train,seqs_test,exprs_train,exprs_test,random_seed = split_trainNtest(random_seed)\n",
    "    model = build(nchannels,width,LEN_SEQ)\n",
    "    model.compile(loss='categorical_crossentropy',optimizer='adam',metrics=['accuracy']) \n",
    "    callback=[EarlyStopping(monitor='loss',patience=10,verbose=0,restore_best_weights=True)]\n",
    "    model.fit(x = seqs_train,\n",
    "             y = exprs_train,\n",
    "             validation_data = (seqs_test,exprs_test),\n",
    "             batch_size=2048,\n",
    "             epochs=100,\n",
    "              verbose=1,\n",
    "             callbacks=callback)    #earlystopping--patience\n",
    "    return model,seqs_train,seqs_test,exprs_train,exprs_test"
   ]
  },
  {
   "cell_type": "code",
   "execution_count": null,
   "id": "38ff1d20",
   "metadata": {
    "scrolled": false
   },
   "outputs": [
    {
     "name": "stdout",
     "output_type": "stream",
     "text": [
      "maize_sorghum_DEGs_cds_2500_DL.csv length: 53578\n",
      "760884974\n",
      "Epoch 1/100\n",
      "21/21 [==============================] - 271s 13s/step - loss: 1.0870 - accuracy: 0.3752 - val_loss: 1.0778 - val_accuracy: 0.3834\n",
      "Epoch 2/100\n",
      "21/21 [==============================] - 272s 13s/step - loss: 1.0735 - accuracy: 0.4008 - val_loss: 1.0713 - val_accuracy: 0.4133\n",
      "Epoch 3/100\n",
      "21/21 [==============================] - 291s 14s/step - loss: 1.0668 - accuracy: 0.4258 - val_loss: 1.0615 - val_accuracy: 0.4336\n",
      "Epoch 4/100\n",
      "21/21 [==============================] - 300s 14s/step - loss: 1.0635 - accuracy: 0.4302 - val_loss: 1.0565 - val_accuracy: 0.4365\n",
      "Epoch 5/100\n",
      "21/21 [==============================] - 298s 14s/step - loss: 1.0511 - accuracy: 0.4456 - val_loss: 0.9972 - val_accuracy: 0.4945\n",
      "Epoch 6/100\n",
      "21/21 [==============================] - 287s 14s/step - loss: 0.9784 - accuracy: 0.5019 - val_loss: 0.9528 - val_accuracy: 0.5209\n",
      "Epoch 7/100\n",
      "21/21 [==============================] - 284s 14s/step - loss: 0.9558 - accuracy: 0.5295 - val_loss: 0.9396 - val_accuracy: 0.5339\n",
      "Epoch 8/100\n",
      "21/21 [==============================] - 287s 14s/step - loss: 0.9478 - accuracy: 0.5344 - val_loss: 0.9361 - val_accuracy: 0.5312\n",
      "Epoch 9/100\n",
      "21/21 [==============================] - 289s 14s/step - loss: 0.9413 - accuracy: 0.5392 - val_loss: 0.9368 - val_accuracy: 0.5348\n",
      "Epoch 10/100\n",
      "21/21 [==============================] - 295s 14s/step - loss: 0.9348 - accuracy: 0.5427 - val_loss: 0.9227 - val_accuracy: 0.5453\n",
      "Epoch 11/100\n",
      "21/21 [==============================] - 291s 14s/step - loss: 0.9286 - accuracy: 0.5503 - val_loss: 0.9184 - val_accuracy: 0.5463\n",
      "Epoch 12/100\n",
      "21/21 [==============================] - 285s 14s/step - loss: 0.9247 - accuracy: 0.5516 - val_loss: 0.9195 - val_accuracy: 0.5482\n",
      "Epoch 13/100\n",
      "21/21 [==============================] - 286s 14s/step - loss: 0.9172 - accuracy: 0.5604 - val_loss: 0.9149 - val_accuracy: 0.5505\n",
      "Epoch 14/100\n",
      "21/21 [==============================] - 297s 14s/step - loss: 0.9112 - accuracy: 0.5644 - val_loss: 0.9101 - val_accuracy: 0.5591\n",
      "Epoch 15/100\n",
      "21/21 [==============================] - 286s 14s/step - loss: 0.9067 - accuracy: 0.5669 - val_loss: 0.9241 - val_accuracy: 0.5473\n",
      "Epoch 16/100\n",
      "21/21 [==============================] - 286s 14s/step - loss: 0.8974 - accuracy: 0.5721 - val_loss: 0.9094 - val_accuracy: 0.5619\n",
      "Epoch 17/100\n",
      "21/21 [==============================] - 290s 14s/step - loss: 0.8845 - accuracy: 0.5854 - val_loss: 0.9354 - val_accuracy: 0.5526\n",
      "Epoch 18/100\n",
      "21/21 [==============================] - 295s 14s/step - loss: 0.8828 - accuracy: 0.5851 - val_loss: 0.9030 - val_accuracy: 0.5705\n",
      "Epoch 19/100\n",
      "21/21 [==============================] - 291s 14s/step - loss: 0.8589 - accuracy: 0.6046 - val_loss: 0.9032 - val_accuracy: 0.5700\n",
      "Epoch 20/100\n",
      "21/21 [==============================] - 282s 13s/step - loss: 0.8385 - accuracy: 0.6188 - val_loss: 0.8984 - val_accuracy: 0.5730\n",
      "Epoch 21/100\n",
      "21/21 [==============================] - 294s 14s/step - loss: 0.8126 - accuracy: 0.6329 - val_loss: 0.8888 - val_accuracy: 0.5841\n",
      "Epoch 22/100\n",
      "21/21 [==============================] - 293s 14s/step - loss: 0.7780 - accuracy: 0.6567 - val_loss: 0.8871 - val_accuracy: 0.5954\n",
      "Epoch 23/100\n",
      "21/21 [==============================] - 292s 14s/step - loss: 0.7489 - accuracy: 0.6741 - val_loss: 0.8738 - val_accuracy: 0.5999\n",
      "Epoch 24/100\n",
      "21/21 [==============================] - 279s 13s/step - loss: 0.7231 - accuracy: 0.6877 - val_loss: 0.8937 - val_accuracy: 0.6002\n",
      "Epoch 25/100\n",
      "21/21 [==============================] - 282s 13s/step - loss: 0.6909 - accuracy: 0.7029 - val_loss: 0.8800 - val_accuracy: 0.6129\n",
      "Epoch 26/100\n",
      "21/21 [==============================] - 287s 14s/step - loss: 0.6510 - accuracy: 0.7265 - val_loss: 0.8745 - val_accuracy: 0.6204\n",
      "Epoch 27/100\n",
      "21/21 [==============================] - 284s 14s/step - loss: 0.6246 - accuracy: 0.7416 - val_loss: 0.8964 - val_accuracy: 0.6120\n",
      "Epoch 28/100\n",
      "21/21 [==============================] - 287s 14s/step - loss: 0.6000 - accuracy: 0.7545 - val_loss: 0.8925 - val_accuracy: 0.6244\n",
      "Epoch 29/100\n",
      "21/21 [==============================] - 286s 14s/step - loss: 0.5648 - accuracy: 0.7688 - val_loss: 0.8916 - val_accuracy: 0.6345\n",
      "Epoch 30/100\n",
      "21/21 [==============================] - 292s 14s/step - loss: 0.5515 - accuracy: 0.7762 - val_loss: 0.8968 - val_accuracy: 0.6338\n",
      "Epoch 31/100\n",
      "21/21 [==============================] - 287s 14s/step - loss: 0.5236 - accuracy: 0.7898 - val_loss: 0.8965 - val_accuracy: 0.6351\n",
      "Epoch 32/100\n",
      "21/21 [==============================] - 291s 14s/step - loss: 0.5028 - accuracy: 0.7996 - val_loss: 0.9330 - val_accuracy: 0.6412\n",
      "Epoch 33/100\n",
      "21/21 [==============================] - 293s 14s/step - loss: 0.4846 - accuracy: 0.8068 - val_loss: 0.9353 - val_accuracy: 0.6373\n",
      "Epoch 34/100\n",
      "21/21 [==============================] - 284s 14s/step - loss: 0.4667 - accuracy: 0.8138 - val_loss: 0.9434 - val_accuracy: 0.6427\n",
      "Epoch 35/100\n",
      "21/21 [==============================] - 286s 14s/step - loss: 0.4453 - accuracy: 0.8250 - val_loss: 0.9565 - val_accuracy: 0.6525\n",
      "Epoch 36/100\n",
      "21/21 [==============================] - 286s 14s/step - loss: 0.4336 - accuracy: 0.8307 - val_loss: 0.9354 - val_accuracy: 0.6579\n",
      "Epoch 37/100\n",
      "21/21 [==============================] - 293s 14s/step - loss: 0.4117 - accuracy: 0.8383 - val_loss: 0.9708 - val_accuracy: 0.6562\n",
      "Epoch 38/100\n",
      "21/21 [==============================] - 281s 13s/step - loss: 0.4017 - accuracy: 0.8434 - val_loss: 0.9358 - val_accuracy: 0.6509\n",
      "Epoch 39/100\n",
      "21/21 [==============================] - 281s 13s/step - loss: 0.3888 - accuracy: 0.8488 - val_loss: 0.9727 - val_accuracy: 0.6575\n",
      "Epoch 40/100\n",
      "21/21 [==============================] - 291s 14s/step - loss: 0.3730 - accuracy: 0.8570 - val_loss: 1.0096 - val_accuracy: 0.6556\n",
      "Epoch 41/100\n",
      "21/21 [==============================] - 289s 14s/step - loss: 0.3646 - accuracy: 0.8602 - val_loss: 1.0104 - val_accuracy: 0.6591\n",
      "Epoch 42/100\n",
      "21/21 [==============================] - 296s 14s/step - loss: 0.3444 - accuracy: 0.8679 - val_loss: 1.0360 - val_accuracy: 0.6622\n",
      "Epoch 43/100\n",
      "21/21 [==============================] - 304s 15s/step - loss: 0.3413 - accuracy: 0.8690 - val_loss: 1.0146 - val_accuracy: 0.6588\n",
      "Epoch 44/100\n",
      "21/21 [==============================] - 302s 14s/step - loss: 0.3347 - accuracy: 0.8716 - val_loss: 1.0542 - val_accuracy: 0.6619\n",
      "Epoch 45/100\n",
      "21/21 [==============================] - 309s 15s/step - loss: 0.3177 - accuracy: 0.8787 - val_loss: 1.0705 - val_accuracy: 0.6564\n",
      "Epoch 46/100\n",
      "21/21 [==============================] - 307s 15s/step - loss: 0.3072 - accuracy: 0.8831 - val_loss: 1.0912 - val_accuracy: 0.6591\n",
      "Epoch 47/100\n",
      "21/21 [==============================] - 306s 15s/step - loss: 0.3060 - accuracy: 0.8825 - val_loss: 1.0739 - val_accuracy: 0.6680\n",
      "Epoch 48/100\n",
      "21/21 [==============================] - 306s 15s/step - loss: 0.2910 - accuracy: 0.8898 - val_loss: 1.0950 - val_accuracy: 0.6631\n",
      "Epoch 49/100\n",
      "21/21 [==============================] - 311s 15s/step - loss: 0.2858 - accuracy: 0.8908 - val_loss: 1.1027 - val_accuracy: 0.6613\n",
      "Epoch 50/100\n",
      "21/21 [==============================] - 300s 14s/step - loss: 0.2797 - accuracy: 0.8945 - val_loss: 1.1537 - val_accuracy: 0.6673\n",
      "Epoch 51/100\n",
      "21/21 [==============================] - 314s 15s/step - loss: 0.2691 - accuracy: 0.8977 - val_loss: 1.1356 - val_accuracy: 0.6683\n",
      "Epoch 52/100\n",
      "21/21 [==============================] - 314s 15s/step - loss: 0.2673 - accuracy: 0.8985 - val_loss: 1.1509 - val_accuracy: 0.6645\n",
      "Epoch 53/100\n",
      "21/21 [==============================] - 311s 15s/step - loss: 0.2626 - accuracy: 0.9007 - val_loss: 1.1646 - val_accuracy: 0.6638\n",
      "Epoch 54/100\n",
      "21/21 [==============================] - 299s 14s/step - loss: 0.2614 - accuracy: 0.9004 - val_loss: 1.1574 - val_accuracy: 0.6664\n",
      "Epoch 55/100\n",
      "21/21 [==============================] - 281s 13s/step - loss: 0.2524 - accuracy: 0.9052 - val_loss: 1.2281 - val_accuracy: 0.6674\n",
      "Epoch 56/100\n",
      "21/21 [==============================] - 292s 14s/step - loss: 0.2444 - accuracy: 0.9079 - val_loss: 1.1974 - val_accuracy: 0.6700\n",
      "Epoch 57/100\n"
     ]
    },
    {
     "name": "stdout",
     "output_type": "stream",
     "text": [
      " 8/21 [==========>...................] - ETA: 2:46 - loss: 0.2348 - accuracy: 0.9119"
     ]
    }
   ],
   "source": [
    "model,seqs_train,seqs_test,exprs_train,exprs_test = train_model(nchannels=4,width=3,LEN_SEQ=2508)"
   ]
  },
  {
   "cell_type": "code",
   "execution_count": null,
   "id": "52c933ca",
   "metadata": {
    "scrolled": false
   },
   "outputs": [],
   "source": [
    "model.summary()"
   ]
  },
  {
   "cell_type": "code",
   "execution_count": null,
   "id": "e7950a39",
   "metadata": {},
   "outputs": [],
   "source": [
    "model.save('hackathon.h5')"
   ]
  },
  {
   "cell_type": "markdown",
   "id": "bd7f96fc",
   "metadata": {},
   "source": [
    "# 基因表达量预测"
   ]
  },
  {
   "cell_type": "code",
   "execution_count": 11,
   "id": "79c4de87",
   "metadata": {},
   "outputs": [],
   "source": [
    "# 获取真实及预测值\n",
    "# seqs_train,seqs_test,expr_train,expr_test = split_trainNtest(part=part)\n",
    "pred_exprs = model.predict(seqs_test)"
   ]
  },
  {
   "cell_type": "code",
   "execution_count": 12,
   "id": "9afa0b9a",
   "metadata": {
    "scrolled": true
   },
   "outputs": [
    {
     "data": {
      "image/png": "[encoded data removed]",
      "text/plain": [
       "<Figure size 432x288 with 1 Axes>"
      ]
     },
     "metadata": {
      "needs_background": "light"
     },
     "output_type": "display_data"
    }
   ],
   "source": [
    "# 可视化\n",
    "score = round(r2_score(exprs_test,pred_exprs),3)\n",
    "\n",
    "plt.scatter(exprs_test,pred_exprs,s=0.1)\n",
    "plt.xlabel('true_express')\n",
    "plt.ylabel('predict_express')\n",
    "plt.title(f'{LEN_SEQS[part-1]}bp kozak prediction')\n",
    "plt.text(2.5,2,f'r2={score}',c='red')\n",
    "plt.show()"
   ]
  }
 ],
 "metadata": {
  "kernelspec": {
   "display_name": "Python 3",
   "language": "python",
   "name": "python3"
  },
  "language_info": {
   "codemirror_mode": {
    "name": "ipython",
    "version": 3
   },
   "file_extension": ".py",
   "mimetype": "text/x-python",
   "name": "python",
   "nbconvert_exporter": "python",
   "pygments_lexer": "ipython3",
   "version": "3.6.13"
  }
 },
 "nbformat": 4,
 "nbformat_minor": 5
}
